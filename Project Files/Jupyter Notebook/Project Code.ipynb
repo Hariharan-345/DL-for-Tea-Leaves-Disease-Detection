{
  "nbformat": 4,
  "nbformat_minor": 0,
  "metadata": {
    "colab": {
      "provenance": [],
      "gpuType": "T4"
    },
    "kernelspec": {
      "name": "python3",
      "display_name": "Python 3"
    },
    "language_info": {
      "name": "python"
    },
    "accelerator": "GPU",
    "gpuClass": "standard"
  },
  "cells": [
    {
      "cell_type": "markdown",
      "source": [
        "**Import Libraries**"
      ],
      "metadata": {
        "id": "IFMIu5MAIUPv"
      }
    },
    {
      "cell_type": "code",
      "source": [
        "#Import Libraries\n",
        "from tensorflow.keras.layers import Dense, Flatten, Input\n",
        "from tensorflow.keras.models import Model\n",
        "from tensorflow.keras.preprocessing import image\n",
        "from tensorflow.keras.preprocessing.image import ImageDataGenerator, load_img\n",
        "from tensorflow.keras.applications.vgg16 import VGG16, preprocess_input\n",
        "from glob import glob\n",
        "import numpy as np\n",
        "import matplotlib.pyplot as plt\n",
        "from tensorflow.keras import datasets, layers, models\n",
        "from tensorflow.keras.applications.vgg16 import VGG16\n",
        "from tensorflow.keras.models import Sequential\n",
        "from tensorflow.keras.layers import Dense"
      ],
      "metadata": {
        "id": "1c5o7oW7IWkG"
      },
      "execution_count": 2,
      "outputs": []
    },
    {
      "cell_type": "code",
      "source": [
        "from google.colab import drive\n",
        "drive.mount('/content/drive')"
      ],
      "metadata": {
        "colab": {
          "base_uri": "https://localhost:8080/"
        },
        "id": "LD-aFxJ1kRJ3",
        "outputId": "790950b9-39c9-49be-e533-1e2c3c39d943"
      },
      "execution_count": 3,
      "outputs": [
        {
          "output_type": "stream",
          "name": "stdout",
          "text": [
            "Mounted at /content/drive\n"
          ]
        }
      ]
    },
    {
      "cell_type": "markdown",
      "source": [
        "**Load the dataset**"
      ],
      "metadata": {
        "id": "eP_fcGqpcdI-"
      }
    },
    {
      "cell_type": "code",
      "source": [
        "input_path = '/content/drive/MyDrive/NM/tea sickness dataset/Anthracnose'\n",
        "output_path = '/content/drive/MyDrive/NM/tea sickness dataset'"
      ],
      "metadata": {
        "id": "QjhgKBaTcfte"
      },
      "execution_count": 4,
      "outputs": []
    },
    {
      "cell_type": "markdown",
      "source": [
        "**Preprocessing**"
      ],
      "metadata": {
        "id": "hm9WJ1gZcvbw"
      }
    },
    {
      "cell_type": "code",
      "source": [
        "imageSize=[224,224]"
      ],
      "metadata": {
        "id": "o6RgKC9FLxuo"
      },
      "execution_count": 5,
      "outputs": []
    },
    {
      "cell_type": "code",
      "source": [
        "vgg = VGG16(input_shape=imageSize +[3], weights='imagenet',include_top=False)"
      ],
      "metadata": {
        "id": "QfIi8ze_cxtx",
        "colab": {
          "base_uri": "https://localhost:8080/"
        },
        "outputId": "0b7c8ebe-c739-4048-ec40-a8f69c72e758"
      },
      "execution_count": 6,
      "outputs": [
        {
          "output_type": "stream",
          "name": "stdout",
          "text": [
            "Downloading data from https://storage.googleapis.com/tensorflow/keras-applications/vgg16/vgg16_weights_tf_dim_ordering_tf_kernels_notop.h5\n",
            "58889256/58889256 [==============================] - 4s 0us/step\n"
          ]
        }
      ]
    },
    {
      "cell_type": "code",
      "source": [
        "#don't train existing weights\n",
        "for layer in vgg.layers:\n",
        "  layer.trainable = False"
      ],
      "metadata": {
        "id": "gYEU5EpC2lEU"
      },
      "execution_count": 7,
      "outputs": []
    },
    {
      "cell_type": "code",
      "source": [
        "#our layers - you can add more if you want\n",
        "x = Flatten()(vgg.output)"
      ],
      "metadata": {
        "id": "F70J1UJ2kHuF"
      },
      "execution_count": 8,
      "outputs": []
    },
    {
      "cell_type": "markdown",
      "source": [
        "**Adding Layers**"
      ],
      "metadata": {
        "id": "iENmo9k8M6kY"
      }
    },
    {
      "cell_type": "code",
      "source": [
        "1 #Our layers - you can add more if you want\n",
        "2 #Adding Flatten Layers\n",
        "x = Flatten()(vgg.output)"
      ],
      "metadata": {
        "id": "oRvrenYwM8Ez"
      },
      "execution_count": 9,
      "outputs": []
    },
    {
      "cell_type": "code",
      "source": [
        "#Adding output layer\n",
        "prediction = Dense(8, activation='softmax')(x)"
      ],
      "metadata": {
        "id": "nlF131r4OsyF"
      },
      "execution_count": 10,
      "outputs": []
    },
    {
      "cell_type": "markdown",
      "source": [
        "**Defining the model**"
      ],
      "metadata": {
        "id": "yXY427JXPh7w"
      }
    },
    {
      "cell_type": "code",
      "source": [
        "#Create a model object\n",
        "model = Model(inputs=vgg.input, outputs=prediction)"
      ],
      "metadata": {
        "id": "4X-nLCZcPkQF"
      },
      "execution_count": 11,
      "outputs": []
    },
    {
      "cell_type": "code",
      "source": [
        "model.summary()"
      ],
      "metadata": {
        "colab": {
          "base_uri": "https://localhost:8080/"
        },
        "id": "37QZh0tLP98X",
        "outputId": "168b6003-e04d-475b-8bbc-59977eb9cddd"
      },
      "execution_count": 12,
      "outputs": [
        {
          "output_type": "stream",
          "name": "stdout",
          "text": [
            "Model: \"model\"\n",
            "_________________________________________________________________\n",
            " Layer (type)                Output Shape              Param #   \n",
            "=================================================================\n",
            " input_1 (InputLayer)        [(None, 224, 224, 3)]     0         \n",
            "                                                                 \n",
            " block1_conv1 (Conv2D)       (None, 224, 224, 64)      1792      \n",
            "                                                                 \n",
            " block1_conv2 (Conv2D)       (None, 224, 224, 64)      36928     \n",
            "                                                                 \n",
            " block1_pool (MaxPooling2D)  (None, 112, 112, 64)      0         \n",
            "                                                                 \n",
            " block2_conv1 (Conv2D)       (None, 112, 112, 128)     73856     \n",
            "                                                                 \n",
            " block2_conv2 (Conv2D)       (None, 112, 112, 128)     147584    \n",
            "                                                                 \n",
            " block2_pool (MaxPooling2D)  (None, 56, 56, 128)       0         \n",
            "                                                                 \n",
            " block3_conv1 (Conv2D)       (None, 56, 56, 256)       295168    \n",
            "                                                                 \n",
            " block3_conv2 (Conv2D)       (None, 56, 56, 256)       590080    \n",
            "                                                                 \n",
            " block3_conv3 (Conv2D)       (None, 56, 56, 256)       590080    \n",
            "                                                                 \n",
            " block3_pool (MaxPooling2D)  (None, 28, 28, 256)       0         \n",
            "                                                                 \n",
            " block4_conv1 (Conv2D)       (None, 28, 28, 512)       1180160   \n",
            "                                                                 \n",
            " block4_conv2 (Conv2D)       (None, 28, 28, 512)       2359808   \n",
            "                                                                 \n",
            " block4_conv3 (Conv2D)       (None, 28, 28, 512)       2359808   \n",
            "                                                                 \n",
            " block4_pool (MaxPooling2D)  (None, 14, 14, 512)       0         \n",
            "                                                                 \n",
            " block5_conv1 (Conv2D)       (None, 14, 14, 512)       2359808   \n",
            "                                                                 \n",
            " block5_conv2 (Conv2D)       (None, 14, 14, 512)       2359808   \n",
            "                                                                 \n",
            " block5_conv3 (Conv2D)       (None, 14, 14, 512)       2359808   \n",
            "                                                                 \n",
            " block5_pool (MaxPooling2D)  (None, 7, 7, 512)         0         \n",
            "                                                                 \n",
            " flatten_1 (Flatten)         (None, 25088)             0         \n",
            "                                                                 \n",
            " dense (Dense)               (None, 8)                 200712    \n",
            "                                                                 \n",
            "=================================================================\n",
            "Total params: 14,915,400\n",
            "Trainable params: 200,712\n",
            "Non-trainable params: 14,714,688\n",
            "_________________________________________________________________\n"
          ]
        }
      ]
    },
    {
      "cell_type": "code",
      "source": [
        "#tell the model what cost and optimization method to use\n",
        "model.compile(\n",
        "    loss='categorical_crossentropy',\n",
        "    optimizer='adam',\n",
        "    metrics=['accuracy'], run_eagerly=True\n",
        ")"
      ],
      "metadata": {
        "id": "rGwRbH_mQ-zJ"
      },
      "execution_count": 13,
      "outputs": []
    },
    {
      "cell_type": "code",
      "source": [
        "#import the image datagenerator library\n",
        "from tensorflow.keras.preprocessing.image import ImageDataGenerator"
      ],
      "metadata": {
        "id": "4SxIj5W8T14v"
      },
      "execution_count": 14,
      "outputs": []
    },
    {
      "cell_type": "code",
      "source": [
        "train_datagen = ImageDataGenerator(rescale = 1./255,\n",
        "                                   shear_range = 0.2,\n",
        "                                   zoom_range = 0.2,\n",
        "                                   horizontal_flip = True)\n",
        "\n",
        "test_datagen = ImageDataGenerator(rescale = 1./255)"
      ],
      "metadata": {
        "id": "p-9hqUtFUFdI"
      },
      "execution_count": 15,
      "outputs": []
    },
    {
      "cell_type": "code",
      "source": [
        "trainPath = '/content/drive/MyDrive/tea sickness dataset'\n",
        "\n",
        "training_set = train_datagen.flow_from_directory(trainPath,\n",
        "                                              target_size = (224,224),\n",
        "                                              batch_size = 32,\n",
        "                                              class_mode = 'categorical')\n",
        "\n",
        "testPath = '/content/drive/MyDrive/tea sickness dataset'\n",
        "\n",
        "test_set = test_datagen.flow_from_directory(testPath,\n",
        "                                            target_size = (224,224),\n",
        "                                            batch_size = 32,\n",
        "                                            class_mode = 'categorical')"
      ],
      "metadata": {
        "id": "mQSegh78V_F9",
        "colab": {
          "base_uri": "https://localhost:8080/"
        },
        "outputId": "48c60557-8141-4acd-cb24-2e8fd4c82aa7"
      },
      "execution_count": 16,
      "outputs": [
        {
          "output_type": "stream",
          "name": "stdout",
          "text": [
            "Found 885 images belonging to 8 classes.\n",
            "Found 885 images belonging to 8 classes.\n"
          ]
        }
      ]
    },
    {
      "cell_type": "code",
      "source": [
        "training_set.class_indices"
      ],
      "metadata": {
        "colab": {
          "base_uri": "https://localhost:8080/"
        },
        "id": "sMyKtnLHdE6s",
        "outputId": "55c8b102-95eb-4bea-e124-4adb7abe331c"
      },
      "execution_count": 17,
      "outputs": [
        {
          "output_type": "execute_result",
          "data": {
            "text/plain": [
              "{'Anthracnose': 0,\n",
              " 'algal leaf': 1,\n",
              " 'bird eye spot': 2,\n",
              " 'brown blight': 3,\n",
              " 'gray light': 4,\n",
              " 'healthy': 5,\n",
              " 'red leaf spot': 6,\n",
              " 'white spot': 7}"
            ]
          },
          "metadata": {},
          "execution_count": 17
        }
      ]
    },
    {
      "cell_type": "code",
      "source": [
        "# fit the model\n",
        "r = model.fit_generator(\n",
        "    training_set,\n",
        "    validation_data=test_set,\n",
        "    epochs=30,\n",
        "    steps_per_epoch=len(training_set),\n",
        "    validation_steps=len(test_set)\n",
        ")"
      ],
      "metadata": {
        "colab": {
          "base_uri": "https://localhost:8080/"
        },
        "id": "niVv6rjto1Mg",
        "outputId": "8147ff62-ba95-4796-ef13-a9571ca802e9"
      },
      "execution_count": 18,
      "outputs": [
        {
          "output_type": "stream",
          "name": "stderr",
          "text": [
            "<ipython-input-18-15eb5a7e606d>:2: UserWarning: `Model.fit_generator` is deprecated and will be removed in a future version. Please use `Model.fit`, which supports generators.\n",
            "  r = model.fit_generator(\n"
          ]
        },
        {
          "output_type": "stream",
          "name": "stdout",
          "text": [
            "Epoch 1/30\n",
            "28/28 [==============================] - 590s 20s/step - loss: 1.6613 - accuracy: 0.4362 - val_loss: 0.8899 - val_accuracy: 0.6678\n",
            "Epoch 2/30\n",
            "28/28 [==============================] - 169s 6s/step - loss: 0.7903 - accuracy: 0.7130 - val_loss: 0.5461 - val_accuracy: 0.7977\n",
            "Epoch 3/30\n",
            "28/28 [==============================] - 172s 6s/step - loss: 0.5673 - accuracy: 0.8102 - val_loss: 0.4129 - val_accuracy: 0.8655\n",
            "Epoch 4/30\n",
            "28/28 [==============================] - 165s 6s/step - loss: 0.4432 - accuracy: 0.8565 - val_loss: 0.3072 - val_accuracy: 0.9175\n",
            "Epoch 5/30\n",
            "28/28 [==============================] - 167s 6s/step - loss: 0.3732 - accuracy: 0.8949 - val_loss: 0.2512 - val_accuracy: 0.9345\n",
            "Epoch 6/30\n",
            "28/28 [==============================] - 169s 6s/step - loss: 0.3813 - accuracy: 0.8701 - val_loss: 0.2263 - val_accuracy: 0.9446\n",
            "Epoch 7/30\n",
            "28/28 [==============================] - 167s 6s/step - loss: 0.3506 - accuracy: 0.8746 - val_loss: 0.2479 - val_accuracy: 0.9254\n",
            "Epoch 8/30\n",
            "28/28 [==============================] - 164s 6s/step - loss: 0.2816 - accuracy: 0.9107 - val_loss: 0.1785 - val_accuracy: 0.9480\n",
            "Epoch 9/30\n",
            "28/28 [==============================] - 169s 6s/step - loss: 0.2610 - accuracy: 0.9164 - val_loss: 0.2497 - val_accuracy: 0.9051\n",
            "Epoch 10/30\n",
            "28/28 [==============================] - 173s 6s/step - loss: 0.2453 - accuracy: 0.9243 - val_loss: 0.1937 - val_accuracy: 0.9435\n",
            "Epoch 11/30\n",
            "28/28 [==============================] - 167s 6s/step - loss: 0.1881 - accuracy: 0.9356 - val_loss: 0.1193 - val_accuracy: 0.9785\n",
            "Epoch 12/30\n",
            "28/28 [==============================] - 168s 6s/step - loss: 0.1651 - accuracy: 0.9672 - val_loss: 0.1099 - val_accuracy: 0.9853\n",
            "Epoch 13/30\n",
            "28/28 [==============================] - 170s 6s/step - loss: 0.1406 - accuracy: 0.9650 - val_loss: 0.1000 - val_accuracy: 0.9797\n",
            "Epoch 14/30\n",
            "28/28 [==============================] - 166s 6s/step - loss: 0.1330 - accuracy: 0.9763 - val_loss: 0.0728 - val_accuracy: 0.9921\n",
            "Epoch 15/30\n",
            "28/28 [==============================] - 168s 6s/step - loss: 0.1306 - accuracy: 0.9605 - val_loss: 0.0610 - val_accuracy: 0.9932\n",
            "Epoch 16/30\n",
            "28/28 [==============================] - 167s 6s/step - loss: 0.1437 - accuracy: 0.9571 - val_loss: 0.0670 - val_accuracy: 0.9898\n",
            "Epoch 17/30\n",
            "28/28 [==============================] - 167s 6s/step - loss: 0.1164 - accuracy: 0.9729 - val_loss: 0.0707 - val_accuracy: 0.9864\n",
            "Epoch 18/30\n",
            "28/28 [==============================] - 170s 6s/step - loss: 0.1018 - accuracy: 0.9819 - val_loss: 0.0614 - val_accuracy: 0.9932\n",
            "Epoch 19/30\n",
            "28/28 [==============================] - 166s 6s/step - loss: 0.1004 - accuracy: 0.9785 - val_loss: 0.0518 - val_accuracy: 0.9955\n",
            "Epoch 20/30\n",
            "28/28 [==============================] - 167s 6s/step - loss: 0.0829 - accuracy: 0.9864 - val_loss: 0.0550 - val_accuracy: 0.9932\n",
            "Epoch 21/30\n",
            "28/28 [==============================] - 162s 6s/step - loss: 0.0901 - accuracy: 0.9785 - val_loss: 0.0418 - val_accuracy: 0.9966\n",
            "Epoch 22/30\n",
            "28/28 [==============================] - 172s 6s/step - loss: 0.0825 - accuracy: 0.9842 - val_loss: 0.0330 - val_accuracy: 0.9989\n",
            "Epoch 23/30\n",
            "28/28 [==============================] - 167s 6s/step - loss: 0.0690 - accuracy: 0.9955 - val_loss: 0.0330 - val_accuracy: 0.9966\n",
            "Epoch 24/30\n",
            "28/28 [==============================] - 165s 6s/step - loss: 0.0611 - accuracy: 0.9898 - val_loss: 0.0344 - val_accuracy: 0.9989\n",
            "Epoch 25/30\n",
            "28/28 [==============================] - 165s 6s/step - loss: 0.0596 - accuracy: 0.9932 - val_loss: 0.0380 - val_accuracy: 0.9955\n",
            "Epoch 26/30\n",
            "28/28 [==============================] - 163s 6s/step - loss: 0.0514 - accuracy: 0.9932 - val_loss: 0.0336 - val_accuracy: 0.9966\n",
            "Epoch 27/30\n",
            "28/28 [==============================] - 165s 6s/step - loss: 0.0571 - accuracy: 0.9932 - val_loss: 0.0486 - val_accuracy: 0.9966\n",
            "Epoch 28/30\n",
            "28/28 [==============================] - 162s 6s/step - loss: 0.0490 - accuracy: 0.9955 - val_loss: 0.0268 - val_accuracy: 0.9989\n",
            "Epoch 29/30\n",
            "28/28 [==============================] - 169s 6s/step - loss: 0.0462 - accuracy: 0.9944 - val_loss: 0.0315 - val_accuracy: 0.9966\n",
            "Epoch 30/30\n",
            "28/28 [==============================] - 163s 6s/step - loss: 0.0450 - accuracy: 0.9955 - val_loss: 0.0325 - val_accuracy: 0.9989\n"
          ]
        }
      ]
    },
    {
      "cell_type": "markdown",
      "source": [
        "**Save the Model**"
      ],
      "metadata": {
        "id": "yK_VTFufkCSF"
      }
    },
    {
      "cell_type": "code",
      "source": [
        "#save the model\n",
        "model.save('vgg-16-Tea-leaves-disease-model.h5')"
      ],
      "metadata": {
        "id": "V7VV5Kh2mM6X"
      },
      "execution_count": 19,
      "outputs": []
    },
    {
      "cell_type": "markdown",
      "source": [
        "**Test the model**"
      ],
      "metadata": {
        "id": "kNKaHevcnXcP"
      }
    },
    {
      "cell_type": "code",
      "source": [
        "img=image.load_img(r'/content/drive/MyDrive/tea sickness dataset/brown blight/UNADJUSTEDNONRAW_thumb_110.jpg',target_size=(224,224))\n",
        "\n",
        "#convert image to array format\n",
        "x=image.img_to_array(img)\n",
        "import numpy as np\n",
        "x=np.expand_dims(x,axis=0)\n",
        "img_data=preprocess_input(x)\n",
        "output=np.argmax(model.predict(img_data), axis=1)\n",
        "index=['Anthracnose',\n",
        "       'algal leaf',\n",
        "       'bird eye spot',\n",
        "       'brown blight',\n",
        "       'gray blight',\n",
        "       'healthy',\n",
        "       'red leaf spot',\n",
        "       'white spot']\n",
        "result = str(index[output[0]])\n",
        "result"
      ],
      "metadata": {
        "colab": {
          "base_uri": "https://localhost:8080/",
          "height": 52
        },
        "id": "6jOgmLhhnZrG",
        "outputId": "0800def5-b8df-49f9-fb9b-c3df593f834c"
      },
      "execution_count": 20,
      "outputs": [
        {
          "output_type": "stream",
          "name": "stdout",
          "text": [
            "1/1 [==============================] - 1s 607ms/step\n"
          ]
        },
        {
          "output_type": "execute_result",
          "data": {
            "text/plain": [
              "'algal leaf'"
            ],
            "application/vnd.google.colaboratory.intrinsic+json": {
              "type": "string"
            }
          },
          "metadata": {},
          "execution_count": 20
        }
      ]
    },
    {
      "cell_type": "code",
      "source": [
        "from google.colab import files\n",
        "\n",
        "# Replace 'model.h5' with the name of your .h5 file\n",
        "files.download('vgg-16-Tea-leaves-disease-model.h5')\n"
      ],
      "metadata": {
        "id": "P3-8Sj0oSps-",
        "colab": {
          "base_uri": "https://localhost:8080/",
          "height": 34
        },
        "outputId": "fce11058-f15a-4804-9e0d-26aa54b50363"
      },
      "execution_count": 21,
      "outputs": [
        {
          "output_type": "display_data",
          "data": {
            "text/plain": [
              "<IPython.core.display.Javascript object>"
            ],
            "application/javascript": [
              "\n",
              "    async function download(id, filename, size) {\n",
              "      if (!google.colab.kernel.accessAllowed) {\n",
              "        return;\n",
              "      }\n",
              "      const div = document.createElement('div');\n",
              "      const label = document.createElement('label');\n",
              "      label.textContent = `Downloading \"${filename}\": `;\n",
              "      div.appendChild(label);\n",
              "      const progress = document.createElement('progress');\n",
              "      progress.max = size;\n",
              "      div.appendChild(progress);\n",
              "      document.body.appendChild(div);\n",
              "\n",
              "      const buffers = [];\n",
              "      let downloaded = 0;\n",
              "\n",
              "      const channel = await google.colab.kernel.comms.open(id);\n",
              "      // Send a message to notify the kernel that we're ready.\n",
              "      channel.send({})\n",
              "\n",
              "      for await (const message of channel.messages) {\n",
              "        // Send a message to notify the kernel that we're ready.\n",
              "        channel.send({})\n",
              "        if (message.buffers) {\n",
              "          for (const buffer of message.buffers) {\n",
              "            buffers.push(buffer);\n",
              "            downloaded += buffer.byteLength;\n",
              "            progress.value = downloaded;\n",
              "          }\n",
              "        }\n",
              "      }\n",
              "      const blob = new Blob(buffers, {type: 'application/binary'});\n",
              "      const a = document.createElement('a');\n",
              "      a.href = window.URL.createObjectURL(blob);\n",
              "      a.download = filename;\n",
              "      div.appendChild(a);\n",
              "      a.click();\n",
              "      div.remove();\n",
              "    }\n",
              "  "
            ]
          },
          "metadata": {}
        },
        {
          "output_type": "display_data",
          "data": {
            "text/plain": [
              "<IPython.core.display.Javascript object>"
            ],
            "application/javascript": [
              "download(\"download_0b238ec4-8573-4cc9-9a5d-fa74ec207206\", \"vgg-16-Tea-leaves-disease-model.h5\", 61347848)"
            ]
          },
          "metadata": {}
        }
      ]
    }
  ]
}